{
 "cells": [
  {
   "cell_type": "markdown",
   "metadata": {},
   "source": [
    "# Exploratory Data Analysis: YouTube trending statistics\n",
    "\n",
    "Contents:\n",
    "\n",
    "1.  A summary of the notebook 'YouTube Trending Videos Analysis'. You guys will certaily know everything which I have written about this notebook already, and by the sound of it you have went into more depth than this notebook. This Kaggle kernel covers the basic properties of the US dataset, I did a little bit of work checking the properties of the UK and CA data too, which behave similarly to the US data. Some of the topics covered are: \n",
    "     - Missing values.\n",
    "     - Distribution of numerical features.\n",
    "     - Correlations between numerical features.\n",
    "     - It points out that the number of unique videos is much smaller than the toal number of instances. \n",
    "     - It looks at which channel and which category has the most trending channels.\n",
    "     - It looks at the amount of trending channels published on each day and at different times.\n",
    "\n",
    "\n",
    "2. An initial experiment of using text data to predict if a video is in the top 20% of views in its given category. In this experiment I looked Music category in the GB dataset. I also removed duplicate instances and considered only the latest entry for each unique video. The steps are as follows:\n",
    "\n",
    "    - Look at the number of trending videos in each category. Music is the most popular in GB so I chose that, simply because it contained the most instances.\n",
    "    - Calculate the threshold for the top 20% of views, this is the 80th percentile. I used the nearest-rank method to calculate the percentile, which is explained in the notebook.\n",
    "    - Create a new catergorical variable called 'Percentile' which is 'Yes' if the number of views is greater than or equal to the 80th percentile, 'No' if it is less. \n",
    "    - Inspect the text data: There are some descriptions which contain hyperlinks, Korean, Chinese and Japanese characters. The non-latin characters are also found in the titles and tags. Create a function to remove all of these, and also punctuation, numerical characters and stop words. \n",
    "    - I decided to use the description only as a predictor variable, so defined a new dataset with only 2 features: the 'description' as a predictor variable and 'Percentile', the target variable. \n",
    "    - Use a stratified shuffle split to reproduce the skew of the data in the training and test set. \n",
    "    - Build pipeline to clean descriptions and create a Bag-of-words model. Then pass the data to a Naive Bayes classifier. \n",
    "    - Make predictions on the training set and give the Precision, Recall and F1-score. Also give a confusion matrix, Precision-Recall curve and ROC curve.\n",
    "\n",
    "Summary:\n",
    "\n",
    "The bag-of-words model diddn't do a very good job of classifying videos into the top 20 percent, doing only slightly better than a random guess on the Training data. There are quite a few more things that could be tried to improve this:\n",
    "\n",
    " - First test how well other text categories perform as predictor variables.\n",
    " - Try a tf-idf model instead of a bag-of-words model.\n",
    " - Try some different/more powerful classfiers.\n",
    " - Look at further dimensionality reduction. It may be that the feature dimension is still very high and it would be benefitial to use a more agressive text normalisation function and some other technieues such as principle componant analysis. \n",
    " \n",
    "I need to think a bit more about what the classifer is actually doing at the moment to think what the best way to impove this is, but I think those 4 points would be a good start. It shouldn't be too much work to test these points. \n",
    "\n",
    "Finally, if you see anything which you think is a mistake or you have issue with, of course don't hesitate to bring it up. \n",
    "  "
   ]
  },
  {
   "cell_type": "markdown",
   "metadata": {},
   "source": [
    "## 1) Collecting information grom notebook __'YouTube Trending Videos Analysis'__ on Kaggle, which analyses US videos only"
   ]
  },
  {
   "cell_type": "code",
   "execution_count": 1,
   "metadata": {},
   "outputs": [],
   "source": [
    "import pandas as pd\n",
    "import numpy as np\n",
    "import matplotlib.pyplot as plt\n",
    "import json"
   ]
  },
  {
   "cell_type": "code",
   "execution_count": 28,
   "metadata": {},
   "outputs": [],
   "source": [
    "gb = pd.read_csv('GBvideos.csv')\n",
    "ca = pd.read_csv('CAvideos.csv')\n",
    "us = pd.read_csv('USvideos.csv')"
   ]
  },
  {
   "cell_type": "markdown",
   "metadata": {},
   "source": [
    "### Initial view of data\n",
    "Author looks at US only, we will also include GB and CA. "
   ]
  },
  {
   "cell_type": "code",
   "execution_count": 29,
   "metadata": {},
   "outputs": [
    {
     "name": "stdout",
     "output_type": "stream",
     "text": [
      "<class 'pandas.core.frame.DataFrame'>\n",
      "RangeIndex: 38916 entries, 0 to 38915\n",
      "Data columns (total 16 columns):\n",
      "video_id                  38916 non-null object\n",
      "trending_date             38916 non-null object\n",
      "title                     38916 non-null object\n",
      "channel_title             38916 non-null object\n",
      "category_id               38916 non-null int64\n",
      "publish_time              38916 non-null object\n",
      "tags                      38916 non-null object\n",
      "views                     38916 non-null int64\n",
      "likes                     38916 non-null int64\n",
      "dislikes                  38916 non-null int64\n",
      "comment_count             38916 non-null int64\n",
      "thumbnail_link            38916 non-null object\n",
      "comments_disabled         38916 non-null bool\n",
      "ratings_disabled          38916 non-null bool\n",
      "video_error_or_removed    38916 non-null bool\n",
      "description               38304 non-null object\n",
      "dtypes: bool(3), int64(5), object(8)\n",
      "memory usage: 4.0+ MB\n",
      "None\n",
      "\n",
      "<class 'pandas.core.frame.DataFrame'>\n",
      "RangeIndex: 40881 entries, 0 to 40880\n",
      "Data columns (total 16 columns):\n",
      "video_id                  40881 non-null object\n",
      "trending_date             40881 non-null object\n",
      "title                     40881 non-null object\n",
      "channel_title             40881 non-null object\n",
      "category_id               40881 non-null int64\n",
      "publish_time              40881 non-null object\n",
      "tags                      40881 non-null object\n",
      "views                     40881 non-null int64\n",
      "likes                     40881 non-null int64\n",
      "dislikes                  40881 non-null int64\n",
      "comment_count             40881 non-null int64\n",
      "thumbnail_link            40881 non-null object\n",
      "comments_disabled         40881 non-null bool\n",
      "ratings_disabled          40881 non-null bool\n",
      "video_error_or_removed    40881 non-null bool\n",
      "description               39585 non-null object\n",
      "dtypes: bool(3), int64(5), object(8)\n",
      "memory usage: 4.2+ MB\n",
      "None\n",
      "\n",
      "<class 'pandas.core.frame.DataFrame'>\n",
      "RangeIndex: 40949 entries, 0 to 40948\n",
      "Data columns (total 16 columns):\n",
      "video_id                  40949 non-null object\n",
      "trending_date             40949 non-null object\n",
      "title                     40949 non-null object\n",
      "channel_title             40949 non-null object\n",
      "category_id               40949 non-null int64\n",
      "publish_time              40949 non-null object\n",
      "tags                      40949 non-null object\n",
      "views                     40949 non-null int64\n",
      "likes                     40949 non-null int64\n",
      "dislikes                  40949 non-null int64\n",
      "comment_count             40949 non-null int64\n",
      "thumbnail_link            40949 non-null object\n",
      "comments_disabled         40949 non-null bool\n",
      "ratings_disabled          40949 non-null bool\n",
      "video_error_or_removed    40949 non-null bool\n",
      "description               40379 non-null object\n",
      "dtypes: bool(3), int64(5), object(8)\n",
      "memory usage: 4.2+ MB\n",
      "None\n"
     ]
    }
   ],
   "source": [
    "print(gb.info())\n",
    "print('')\n",
    "print(ca.info())\n",
    "print('')\n",
    "print(us.info())"
   ]
  },
  {
   "cell_type": "markdown",
   "metadata": {},
   "source": [
    " - GB: 38916 entries; 612 descriptions missing.\n",
    " - CA: 40881 entries; 1296 descriptions missing.\n",
    " - US: 40949 entries; 570 descriptions missing.\n",
    "\n",
    "In this Kaggle kernel the author replaces Null descriptions with empty strings. Does the effect text analysis?\n",
    "It is probably ok to drop these instances. "
   ]
  },
  {
   "cell_type": "markdown",
   "metadata": {},
   "source": [
    "### Distributions of views\n",
    "The number of views, likes and dislikes are skewed: this carries over for all GB, CA and US, as shown below.\n"
   ]
  },
  {
   "cell_type": "code",
   "execution_count": 4,
   "metadata": {},
   "outputs": [
    {
     "data": {
      "image/png": "[encoded data removed]",
      "text/plain": [
       "<Figure size 576x288 with 3 Axes>"
      ]
     },
     "metadata": {
      "needs_background": "light"
     },
     "output_type": "display_data"
    }
   ],
   "source": [
    "y1 = gb['views']\n",
    "y2 = ca['views']\n",
    "y3 = us['views']\n",
    "\n",
    "fig,ax = plt.subplots(1,3,figsize=(8,4))\n",
    "ax[0].hist(y1,facecolor='lightblue',ec='darkblue')\n",
    "ax[1].hist(y2,facecolor='lightblue',ec='darkblue')\n",
    "ax[2].hist(y3,facecolor='lightblue',ec='darkblue')\n",
    "\n",
    "ax[0].set_xlabel('GB views')\n",
    "ax[1].set_xlabel('CA views')\n",
    "ax[2].set_xlabel('US views')\n",
    "ax[0].set_ylabel('Count')\n",
    "ax[1].set_ylabel('Count')\n",
    "ax[2].set_ylabel('Count')\n",
    "plt.tight_layout()\n",
    "\n",
    "plt.show()"
   ]
  },
  {
   "cell_type": "markdown",
   "metadata": {},
   "source": [
    "If we ignore large values we can get a more detailed view of the distributions:"
   ]
  },
  {
   "cell_type": "code",
   "execution_count": 8,
   "metadata": {},
   "outputs": [
    {
     "data": {
      "image/png": "[encoded data removed]",
      "text/plain": [
       "<Figure size 576x288 with 3 Axes>"
      ]
     },
     "metadata": {
      "needs_background": "light"
     },
     "output_type": "display_data"
    }
   ],
   "source": [
    "y1 = gb['views']\n",
    "y2 = ca['views']\n",
    "y3 = us['views']\n",
    "\n",
    "y1_reduced = y1.values[np.where(y1<5e6)]\n",
    "y2_reduced = y2.values[np.where(y2<5e6)]\n",
    "y3_reduced = y3.values[np.where(y3<5e6)]\n",
    "\n",
    "fig,ax = plt.subplots(1,3,figsize=(8,4))\n",
    "ax[0].hist(y1_reduced,facecolor='lightblue',ec='darkblue')\n",
    "ax[1].hist(y2_reduced,facecolor='lightblue',ec='darkblue')\n",
    "ax[2].hist(y3_reduced,facecolor='lightblue',ec='darkblue')\n",
    "\n",
    "ax[0].set_xlabel('GB views')\n",
    "ax[1].set_xlabel('CA views')\n",
    "ax[2].set_xlabel('US views')\n",
    "ax[0].set_ylabel('Count')\n",
    "ax[1].set_ylabel('Count')\n",
    "ax[2].set_ylabel('Count')\n",
    "plt.tight_layout()\n",
    "\n",
    "plt.show()"
   ]
  },
  {
   "cell_type": "markdown",
   "metadata": {},
   "source": [
    "__Note__ we can can use a stratisfied train-test split to replicate this skew in the training data, or we can try a log transformation or a Box-Cox transformation. "
   ]
  },
  {
   "cell_type": "markdown",
   "metadata": {},
   "source": [
    "### Aspects of categorical features:\n",
    "\n",
    " - The US datset has only 6351 uniques entries but 6455 title, this was shown to occur because the same video is uploaded with more than one title. \n",
    " - 56% of trending videos has two capital letters, not a great indictor of trending.\n",
    " - There is no real correlation between title length and number of views.\n",
    " - Almost all trending videos have both comments and rating enabled."
   ]
  },
  {
   "cell_type": "markdown",
   "metadata": {},
   "source": [
    "### Correlations between numerical features\n",
    "\n",
    "For the US dataset: \n",
    "\n",
    " - The correlation between views and likes is 0.85\n",
    " - The correlation between views and dislikes is 0.45\n",
    " - The correlation between views and comment count is 62\n",
    " - The correlation between comment count and likes is 0.8\n",
    " - The correlation between comment count and likes is 0.7\n",
    " \n",
    "Although we wont be using these for sentiment analysis, it may be useful to bear these relationships in mind.\n"
   ]
  },
  {
   "cell_type": "markdown",
   "metadata": {},
   "source": [
    "### Which video category has the largest number of trending videos?\n",
    "It is shown for the US dataset, the entertainment categroy has the largest number of trending videos, we also look at GB and CA here. "
   ]
  },
  {
   "cell_type": "code",
   "execution_count": 13,
   "metadata": {},
   "outputs": [],
   "source": [
    "#Extract categories from the json files and store them in a dictionary.\n",
    "#We then use the dictionary to build a new categories column.\n",
    "#Code copied from the kaggle kernel. \n",
    "\n",
    "with open(\"GB_category_id.json\") as f:\n",
    "    categories = json.load(f)[\"items\"]\n",
    "cat_dict = {}\n",
    "for cat in categories:\n",
    "    cat_dict[int(cat[\"id\"])] = cat[\"snippet\"][\"title\"]\n",
    "gb['category_name'] = gb['category_id'].map(cat_dict)\n",
    "\n",
    "\n",
    "with open(\"CA_category_id.json\") as f:\n",
    "    categories = json.load(f)[\"items\"]\n",
    "cat_dict = {}\n",
    "for cat in categories:\n",
    "    cat_dict[int(cat[\"id\"])] = cat[\"snippet\"][\"title\"]\n",
    "ca['category_name'] = ca['category_id'].map(cat_dict)\n",
    "\n",
    "\n",
    "with open(\"US_category_id.json\") as f:\n",
    "    categories = json.load(f)[\"items\"]\n",
    "cat_dict = {}\n",
    "for cat in categories:\n",
    "    cat_dict[int(cat[\"id\"])] = cat[\"snippet\"][\"title\"]\n",
    "us['category_name'] = us['category_id'].map(cat_dict)\n"
   ]
  },
  {
   "cell_type": "code",
   "execution_count": 18,
   "metadata": {},
   "outputs": [],
   "source": [
    "gb_category_counts = gb[\"category_name\"].value_counts()\n",
    "ca_category_counts = ca[\"category_name\"].value_counts()\n",
    "us_category_counts = us[\"category_name\"].value_counts()"
   ]
  },
  {
   "cell_type": "code",
   "execution_count": 26,
   "metadata": {},
   "outputs": [
    {
     "data": {
      "image/png": "[encoded data removed]",
      "text/plain": [
       "<Figure size 864x288 with 3 Axes>"
      ]
     },
     "metadata": {
      "needs_background": "light"
     },
     "output_type": "display_data"
    }
   ],
   "source": [
    "fig,ax = plt.subplots(1,3, figsize=(12,4))\n",
    "gb_category_counts.plot.bar(ax=ax[0])\n",
    "ca_category_counts.plot.bar(ax=ax[1])\n",
    "us_category_counts.plot.bar(ax=ax[2])\n",
    "ax[0].set_title('GB')\n",
    "ax[1].set_title('CA')\n",
    "ax[2].set_title('US')\n",
    "plt.tight_layout()\n",
    "plt.show()"
   ]
  },
  {
   "cell_type": "markdown",
   "metadata": {},
   "source": [
    "We In GB, music is the most popular while Entertainment is most popular in CA and US. Music ranks 2nd in the US but only 5th in CA. News and politics is 2nd in Canada compared 9th in GB and 5th in the US. The point is, we can expect different results from different countries. "
   ]
  },
  {
   "cell_type": "markdown",
   "metadata": {},
   "source": [
    "### Summary of 'YouTube Trending Videos Analysis' Kaggle Kernel\n",
    "\n",
    "- Almost all data is complete. There are a few instances in which the descriptions are missing.\n",
    "- The number the distribution of views has positive skew for all countries. This was also observed in number of likes and number of comments. \n",
    "- There are strong correlatons between views and likes. Other numerical attributes also have correaltions. \n",
    "- The amount of trending videos per category is different in different countries. \n",
    "- __Note__: the above analysis contains multiple entries of the same video, where videos trend across multiple days. If we want to do initial sentiment analysis we may want to only use the most recent instance of a video."
   ]
  },
  {
   "cell_type": "markdown",
   "metadata": {},
   "source": [
    "***"
   ]
  },
  {
   "cell_type": "markdown",
   "metadata": {},
   "source": [
    "# Initial experiment to test if we can be use text data to predict if video will be in top 20% of viewed videos in its category. "
   ]
  },
  {
   "cell_type": "markdown",
   "metadata": {},
   "source": [
    "As an intial test, lets consider only GB and a single category. \n",
    "\n",
    "Steps:\n",
    "\n",
    "- Take most popular category to begin with, but then we can repeat initial analysis for other categories later.\n",
    "- Take latest unique instance for each video.\n",
    "- Check distribution of views.\n",
    "- Calculate percentiles for this category.\n",
    "- Create column which has values Yes and No. These values will be used to label data as being in top 20% or not in top 20%\n",
    "- Tokenise some text attributes.\n",
    "- Try out some classifiers: first multinomial Naive Bayes. "
   ]
  },
  {
   "cell_type": "code",
   "execution_count": 206,
   "metadata": {},
   "outputs": [],
   "source": [
    "#Re-load GB data and create category column\n",
    "gb = pd.read_csv('GBvideos.csv')\n",
    "with open(\"GB_category_id.json\") as f:\n",
    "    categories = json.load(f)[\"items\"]\n",
    "cat_dict = {}\n",
    "for cat in categories:\n",
    "    cat_dict[int(cat[\"id\"])] = cat[\"snippet\"][\"title\"]\n",
    "gb['category_name'] = gb['category_id'].map(cat_dict)\n"
   ]
  },
  {
   "cell_type": "code",
   "execution_count": 207,
   "metadata": {},
   "outputs": [
    {
     "name": "stdout",
     "output_type": "stream",
     "text": [
      "(38916, 17)\n",
      "(3272, 17)\n"
     ]
    }
   ],
   "source": [
    "#Drop dubplicate instances, keeping only latest entry for each video\n",
    "print(gb.shape)\n",
    "gb = gb.drop_duplicates(subset='video_id',keep='last')\n",
    "print(gb.shape)"
   ]
  },
  {
   "cell_type": "code",
   "execution_count": 208,
   "metadata": {},
   "outputs": [
    {
     "data": {
      "image/png": "[encoded data removed]",
      "text/plain": [
       "<Figure size 432x288 with 2 Axes>"
      ]
     },
     "metadata": {
      "needs_background": "light"
     },
     "output_type": "display_data"
    }
   ],
   "source": [
    "fig,ax = plt.subplots(1,2)\n",
    "\n",
    "views_reduced = gb['views'].values[np.where(gb['views']<5e6)]\n",
    "\n",
    "ax[0].hist(gb['views'],facecolor='lightblue',ec='darkblue')\n",
    "ax[0].set_xlabel('Views')\n",
    "ax[0].set_ylabel('Count')\n",
    "\n",
    "ax[1].hist(views_reduced,facecolor='lightblue',ec='darkblue')\n",
    "ax[1].set_xlabel('Views (reduced)')\n",
    "ax[1].set_ylabel('Count')\n",
    "\n",
    "plt.tight_layout()\n",
    "plt.show()\n"
   ]
  },
  {
   "cell_type": "markdown",
   "metadata": {},
   "source": [
    "Positive skew persists in the the dataset of only unique values. Remember to replicate this in the train-test split. "
   ]
  },
  {
   "cell_type": "code",
   "execution_count": 209,
   "metadata": {},
   "outputs": [
    {
     "data": {
      "image/png": "[encoded data removed]",
      "text/plain": [
       "<Figure size 432x288 with 1 Axes>"
      ]
     },
     "metadata": {
      "needs_background": "light"
     },
     "output_type": "display_data"
    }
   ],
   "source": [
    "fig = plt.figure()\n",
    "gb_category_counts.plot.bar()\n",
    "plt.show()\n"
   ]
  },
  {
   "cell_type": "markdown",
   "metadata": {},
   "source": [
    "Let us use the Music category, since it is the most popular. "
   ]
  },
  {
   "cell_type": "code",
   "execution_count": 210,
   "metadata": {},
   "outputs": [
    {
     "name": "stdout",
     "output_type": "stream",
     "text": [
      "(877, 17)\n"
     ]
    }
   ],
   "source": [
    "gb_music = gb.loc[gb['category_name']=='Music']\n",
    "print(gb_music.shape)"
   ]
  },
  {
   "cell_type": "markdown",
   "metadata": {},
   "source": [
    "Compute the 80th percentile for this category"
   ]
  },
  {
   "cell_type": "code",
   "execution_count": 211,
   "metadata": {},
   "outputs": [],
   "source": [
    "'''We will use the method of nearest-rank to calculate a percentile which should be un-affected by skew.\n",
    "\n",
    "First we sort views in assending order\n",
    "Next, calculate the ordinal rank of views.\n",
    "Finally, return value from the array of ordered views ath N'th index. \n",
    "'''\n",
    "\n",
    "def p_percentile(views_column,p=80):\n",
    "    '''p is given as a percentage. Default: p=80%'''\n",
    "    \n",
    "    ordered_views = np.sort(views_column.values) #sort values\n",
    "    N = ordered_views.shape[0] #number of values in array\n",
    "    ordinal_rank = int(N*p/100) #calculate ordinal rank\n",
    "    \n",
    "    return ordered_views[ordinal_rank] #return the value of ordered array at index ordinal_rank"
   ]
  },
  {
   "cell_type": "code",
   "execution_count": 212,
   "metadata": {},
   "outputs": [
    {
     "name": "stdout",
     "output_type": "stream",
     "text": [
      "14008109\n",
      "13109979.546180159\n",
      "424538912\n"
     ]
    }
   ],
   "source": [
    "percentile_80 = p_percentile(gb_music['views'])\n",
    "print(percentile_80)\n",
    "print(gb_music['views'].mean())\n",
    "print(gb_music['views'].max())"
   ]
  },
  {
   "cell_type": "markdown",
   "metadata": {},
   "source": [
    "Create labels to indicate if video is in top 20% or not. We can also reset the index to make inspecting the data easier."
   ]
  },
  {
   "cell_type": "code",
   "execution_count": 213,
   "metadata": {},
   "outputs": [
    {
     "name": "stdout",
     "output_type": "stream",
     "text": [
      "<bound method NDFrame.head of      index     video_id trending_date  \\\n",
      "0       22  fiusxyygqGk      17.14.11   \n",
      "1      158  kqbJCW-jxYM      17.14.11   \n",
      "2      178  676hNIhKO2M      17.14.11   \n",
      "3      192  lyqww9P7qyw      17.14.11   \n",
      "4      193  MnK9_fWPT3Y      17.14.11   \n",
      "..     ...          ...           ...   \n",
      "872  38910  uKxWP56VStM      18.14.06   \n",
      "873  38911  l884wKofd54      18.14.06   \n",
      "874  38912  IP8k2xkhOdI      18.14.06   \n",
      "875  38913  Il-an3K9pjg      18.14.06   \n",
      "876  38915  4YFo4bdMO8Q      18.14.06   \n",
      "\n",
      "                                                 title         channel_title  \\\n",
      "0         Marshmello - You & Me (Official Music Video)            marshmello   \n",
      "1    Lil Kim Keeps It Real On Nicki Minaj, Biggie R...                HOT 97   \n",
      "2    Madison Beer - Say It To My Face (Official Audio)  MadisonBeerMusicVEVO   \n",
      "3    dodie - Vevo Real Guides: dodie in Belfast - S...             dodieVEVO   \n",
      "4    Tee Grizzley Win (WSHH Exclusive - Official Mu...       WORLDSTARHIPHOP   \n",
      "..                                                 ...                   ...   \n",
      "872         Jeremy Zucker - all the kids are depressed      JeremyZuckerVEVO   \n",
      "873  Enrique Iglesias - MOVE TO MIAMI (Official Vid...   EnriqueIglesiasVEVO   \n",
      "874  Jacob Sartorius - Up With It (Official Music V...       Jacob Sartorius   \n",
      "875                 Anne-Marie - 2002 [Official Video]            Anne-Marie   \n",
      "876  KYLE - Ikuyo feat.  2 Chainz & Sophia Black [A...        SuperDuperKyle   \n",
      "\n",
      "     category_id              publish_time  \\\n",
      "0             10  2017-11-10T15:00:03.000Z   \n",
      "1             10  2017-11-03T13:48:20.000Z   \n",
      "2             10  2017-11-03T13:59:25.000Z   \n",
      "3             10  2017-11-03T14:42:27.000Z   \n",
      "4             10  2017-11-02T19:33:54.000Z   \n",
      "..           ...                       ...   \n",
      "872           10  2018-05-10T16:00:09.000Z   \n",
      "873           10  2018-05-09T07:00:01.000Z   \n",
      "874           10  2018-05-11T17:09:16.000Z   \n",
      "875           10  2018-05-08T11:05:08.000Z   \n",
      "876           10  2018-05-11T04:06:35.000Z   \n",
      "\n",
      "                                                  tags     views   likes  \\\n",
      "0    selena gomez wolves|\"alone marshmello\"|\"marshm...   3407008  207262   \n",
      "1    hot97|\"hot97app\"|\"music\"|\"video\"|\"hip hop\"|\"ra...    407075    5819   \n",
      "2    Madison|\"Beer\"|\"Say\"|\"It\"|\"To\"|\"My\"|\"Face\"|\"(O...   1053402   47309   \n",
      "3    Dodie|\"dodie interview\"|\"Dodie Ireland\"|\"Dodie...    174643   17232   \n",
      "4    new hip hop songs|\"rap\"|\"hip hop\"|\"wshh\"|\"wshh...   2030890   45008   \n",
      "..                                                 ...       ...     ...   \n",
      "872  Jeremy|\"Zucker\"|\"all\"|\"the\"|\"kids\"|\"are\"|\"depr...   1939400  169578   \n",
      "873  Enrique Iglesias feat. Pitbull|\"MOVE TO MIAMI\"...  25066952  268088   \n",
      "874  jacob sartorius|\"jacob\"|\"up with it\"|\"jacob sa...   1492219   61998   \n",
      "875  anne|\"marie\"|\"anne-marie\"|\"2002\"|\"two thousand...  29641412  394830   \n",
      "876  Kyle|\"SuperDuperKyle\"|\"Ikuyo\"|\"2 Chainz\"|\"Soph...    607552   18271   \n",
      "\n",
      "     dislikes  comment_count                                  thumbnail_link  \\\n",
      "0        3167          13279  https://i.ytimg.com/vi/fiusxyygqGk/default.jpg   \n",
      "1         598           2815  https://i.ytimg.com/vi/kqbJCW-jxYM/default.jpg   \n",
      "2        1408           2407  https://i.ytimg.com/vi/676hNIhKO2M/default.jpg   \n",
      "3         324           1014  https://i.ytimg.com/vi/lyqww9P7qyw/default.jpg   \n",
      "4         910           3533  https://i.ytimg.com/vi/MnK9_fWPT3Y/default.jpg   \n",
      "..        ...            ...                                             ...   \n",
      "872      1202           5889  https://i.ytimg.com/vi/uKxWP56VStM/default.jpg   \n",
      "873     12783           9933  https://i.ytimg.com/vi/l884wKofd54/default.jpg   \n",
      "874     13781          24330  https://i.ytimg.com/vi/IP8k2xkhOdI/default.jpg   \n",
      "875      8892          19988  https://i.ytimg.com/vi/Il-an3K9pjg/default.jpg   \n",
      "876       274           1423  https://i.ytimg.com/vi/4YFo4bdMO8Q/default.jpg   \n",
      "\n",
      "     comments_disabled  ratings_disabled  video_error_or_removed  \\\n",
      "0                False             False                   False   \n",
      "1                False             False                   False   \n",
      "2                False             False                   False   \n",
      "3                False             False                   False   \n",
      "4                False             False                   False   \n",
      "..                 ...               ...                     ...   \n",
      "872              False             False                   False   \n",
      "873              False             False                   False   \n",
      "874              False             False                   False   \n",
      "875              False             False                   False   \n",
      "876              False             False                   False   \n",
      "\n",
      "                                           description category_name  \\\n",
      "0    PURCHASE YOU & ME HERE ▶ https://smarturl.it/m...         Music   \n",
      "1    HOT 97 App: http://www.hot97.com/hot97app\\n\\nY...         Music   \n",
      "2    Stream & Download ‘Say It To My Face’ now from...         Music   \n",
      "3    Join dodie on a tour of Belfast before her hea...         Music   \n",
      "4    Watch the official music video for Win by Tee ...         Music   \n",
      "..                                                 ...           ...   \n",
      "872  For people watching this video, I hope that th...         Music   \n",
      "873  NEW SONG - MOVE TO MIAMI feat. Pitbull (Click ...         Music   \n",
      "874  THE OFFICIAL UP WITH IT MUSIC VIDEO!Get my new...         Music   \n",
      "875  Get 2002 by Anne-Marie HERE ▶ http://ad.gt/200...         Music   \n",
      "876  Debut album 'Light of Mine' out now: http://ky...         Music   \n",
      "\n",
      "    Percentile  \n",
      "0           No  \n",
      "1           No  \n",
      "2           No  \n",
      "3           No  \n",
      "4           No  \n",
      "..         ...  \n",
      "872         No  \n",
      "873        Yes  \n",
      "874         No  \n",
      "875        Yes  \n",
      "876         No  \n",
      "\n",
      "[877 rows x 19 columns]>\n"
     ]
    },
    {
     "name": "stderr",
     "output_type": "stream",
     "text": [
      "C:\\Users\\Owner\\Anaconda3\\lib\\site-packages\\ipykernel_launcher.py:1: SettingWithCopyWarning: \n",
      "A value is trying to be set on a copy of a slice from a DataFrame.\n",
      "Try using .loc[row_indexer,col_indexer] = value instead\n",
      "\n",
      "See the caveats in the documentation: http://pandas.pydata.org/pandas-docs/stable/user_guide/indexing.html#returning-a-view-versus-a-copy\n",
      "  \"\"\"Entry point for launching an IPython kernel.\n"
     ]
    }
   ],
   "source": [
    "gb_music['Percentile'] = gb_music['views'].apply(lambda x: 'Yes' if x >= percentile_80 else 'No')\n",
    "gb_music.reset_index(inplace=True)\n",
    "print(gb_music.head)"
   ]
  },
  {
   "cell_type": "markdown",
   "metadata": {},
   "source": [
    "We will plot the distribution of labels so we can compare to the training labels after the split. We want to compare becuase we want the stratisfied splitting to replecate the skew."
   ]
  },
  {
   "cell_type": "code",
   "execution_count": 158,
   "metadata": {},
   "outputs": [
    {
     "data": {
      "image/png": "[encoded data removed]",
      "text/plain": [
       "<Figure size 432x288 with 1 Axes>"
      ]
     },
     "metadata": {
      "needs_background": "light"
     },
     "output_type": "display_data"
    }
   ],
   "source": [
    "fig = plt.figure()\n",
    "plt.hist(gb_music['Percentile'])\n",
    "plt.xlabel('Yes/No Label')\n",
    "plt.ylabel('Count')\n",
    "plt.show()"
   ]
  },
  {
   "cell_type": "markdown",
   "metadata": {},
   "source": [
    "## Text cleaning\n",
    "\n",
    "We need to clean the text in an attempt to reduce the dimensionality of the feature space. We will see below that some descriptions contain hyperlinks. Furthemore, some desctiptions contain Korean, Chinese and Japanese script. This is the same for some video titles and tags. We want to remove the links, non-latin characters, punctuation and remove stop words. We will write a function to perform all three stages. "
   ]
  },
  {
   "cell_type": "code",
   "execution_count": 147,
   "metadata": {},
   "outputs": [
    {
     "name": "stdout",
     "output_type": "stream",
     "text": [
      "0     PURCHASE YOU & ME HERE ▶ https://smarturl.it/m...\n",
      "1     HOT 97 App: http://www.hot97.com/hot97app\\n\\nY...\n",
      "2     Stream & Download ‘Say It To My Face’ now from...\n",
      "3     Join dodie on a tour of Belfast before her hea...\n",
      "4     Watch the official music video for Win by Tee ...\n",
      "5     Trigger Warning: This video portrays subtle ye...\n",
      "6     Get an unprecedented glimpse into Taylor's son...\n",
      "7     Get “Cinema Paradiso” from our album “Score” a...\n",
      "8     Get Taylor Swift’s new album, reputation, here...\n",
      "9     Music video by Luke Bryan performing Most Peop...\n",
      "10    사랑에 빠져 돌아온 러블리즈, 추운 겨울 두근대는 설레임을 담은 세 번째 미니앨범 ...\n",
      "11    Remy Ma - Wake Me Up featuring Lil' Kim (Offic...\n",
      "12    Get Taylor Swift’s new album, reputation, incl...\n",
      "13    Listen to MotorSport (feat. Nicki Minaj & Card...\n",
      "14    Video Description:\\n12/29: Neon City: The Lost...\n",
      "15    New Music from Miguel - Told You So\\niTunes – ...\n",
      "16    Lemon performed by N.E.R.D and Rihanna is out ...\n",
      "17    Official audio for Vance Joy Like Gold\\n\\nStre...\n",
      "18    RED PILL BLUES” is out now.\\nhttp://smarturl.i...\n",
      "19    Pre-Order From A Room: Volume 2\\nExclusive Pre...\n",
      "Name: description, dtype: object\n"
     ]
    }
   ],
   "source": [
    "print(gb_music['description'][0:20])"
   ]
  },
  {
   "cell_type": "markdown",
   "metadata": {},
   "source": [
    "We can see that some descriptions contain Koren, Chinese and Japanese text, this is also the case with some titles and tags. For now we don't want to process these scrips and we should filter them out. To do this we can use Pythons re module."
   ]
  },
  {
   "cell_type": "code",
   "execution_count": 84,
   "metadata": {},
   "outputs": [
    {
     "name": "stdout",
     "output_type": "stream",
     "text": [
      "사랑에 빠져 돌아온 러블리즈, 추운 겨울 두근대는 설레임을 담은 세 번째 미니앨범 발매!\\nLovelyz 3rd Mini Album [Fall in Lovelyz]\\n\\n \\n그룹 러블리즈가 11월 14일 미니 3집 [Fall in Lovelyz]을 발매하며 깜짝 컴백한다.\\n\\n러블리즈는 지난 2월 정규 2집 [R U Ready?]와 5월 정규 2집 리패키지 [지금, 우리]를 발매하며\\n두 번째 단독 콘서트 ‘Alwayz’까지 성황리에 마쳤으며 하반기에도 활발한 활동을 펼치고자\\n미니 3집 앨범을 발매하기로 결정. 또 한 번 겨울의 러블리즈를 볼 수 있게 됐다.\\n이번 미니 3집은 러블리즈만의 감성이 가장 돋보일 수 있는 계절인 겨울에 찾아오는 것으로\\n매 앨범 마다 높은 완성도와 한층 성장된 실력으로 컴백하는 만큼, 앨범에 대한 관심이 뜨겁다.\\n특히, 이번 앨범에서는 최근 떠오르는 프로듀서인 원택(1Take)과 탁(TAK)의 협업으로\\n새로운 러블리즈만의 감성과 세계관을 성립하며 또 다른 시너지를 만들어 낼 것이다.\\n\\n\\n\\n러블리즈는 2014년 11월 12일 특유의 사랑스러움과 청순함으로 가요계에 대체 불가능한 걸그룹으로서\\n\\n\\n첫 1위와 두 번의 단독 콘서트, 뮤지컬까지 다방면으로 활동하고 있는 가운데 미니 3집으로 전격 컴백을 알렸다.\\n데뷔 3주년의 의미를 담은 이번 앨범은 러블리즈를 항상 응원하고 사랑해준 팬들을 위해 러블리즈가 선사하는\\n선물 같은 앨범으로 어느 때 보다 정성을 다해 완성됐다.\\n\\n앨범 명 ‘Fall in Lovelyz’는 늦은 가을에서 겨울로 넘어가는 사이 계절의 분위기와 러블리즈만의\\n특별한 감성을 담아 지어졌으며, 사랑에 빠진 러블리즈와 이들에게 빠지게 될 모든 사람들의\\n설레고 벅찬 감정을 오롯이 표현하는 앨범이라는 의미를 담았다.\\n\\n러블리즈의 미니 3집에는 타이틀 곡 ‘종소리’을 포함 총 7곡으로 모두 신곡으로 채워졌다.\\n트랙에는 잔잔하게 퍼지는 여운을 담은 발라드부터 동화 속의 한 장면을 연상케 하는 몽환적인 곡까지\\n다채롭게 수록되어 우리의 귀를 즐겁게 해줄 것이다.\\n\\n타이틀 곡 ‘종소리’는 러블리즈가 새롭게 시도하는 Complextro 사운드와 ELECTRO-POP이라는 장르가 만난 곡으로\\n원택(1Take), 탁(TAK)이 작사, 작곡한 곡이다. 러블리즈와 처음 작업에 완벽 호흡을 자랑한 원택(1Take), 탁(TAK)은\\n인피니트의 ‘AIR’, 골든차일드의 ‘내 눈을 의심해’를 통해 새로운 사운드를 선보인 바 있다.\\n‘두근대는 설레임의 시작’, ‘귓가에 맴도는 종소리’라는 순정만화 판타지를 컨셉으로 러블리즈만의\\n사랑스러운 세계관을 담은 겨울에 듣기 좋은 곡으로 탄생됐다.\\n\\n또한, 곡 중간에 들려오는 은은한 종소리가 한겨울 크리스마스 분위기를 떠오르게 하는 묘한 설렘을 불러일으키며\\n러블리즈의 파워풀한 군무와 다이나믹한 동선변화가 어우러진 안무로 화려한 무대를 꾸밀 예정이다.\\n이외에도 인트로 곡인 ‘Spotlight’와 수록곡 ‘삼각형’, ‘그냥’, ‘FALLIN’’, ‘비밀정원’, ‘졸린 꿈’까지 총 7곡이 수록되어있다.\\n‘삼각형’은 남녀의 삼각 관계를 경쾌한 사운드와 엮어 센스 있게 표현한 곡이며, ‘그냥’은 별다른 이유 없이\\n매번 ‘그냥’이라고 말하는 남자에 대해 혼란스러우면서도 슬프고 설레는 감정을 담은 곡이다.\\n특히, ‘FALLIN’’은 지난 7월 열린 러블리즈의 두 번째 단독 콘서트 ‘Alwayz’에서 선공개된 곡으로\\n사랑하는 연인과의 약속을 그려낸 가사에 러블리즈가 팬들에게 하고 싶은 말을 비유한 R&B 곡이다.\\n뿐만 아니라 어릴적 상상했던 동화적 환상을 담은 ‘졸린 꿈’과 ‘기억’과 ‘꿈’이 있는 곳을\\n정원으로 표현한 ‘비밀정원’까지 다채롭게 채워졌다. 이처럼 러블리즈의 미니 3집 [Fall in Lovelyz]은\\n추운 겨울, 우리들의 마음을 녹여줄 수 있는 설레고 따뜻한 앨범이 될 것이다.\\n\\nCJ E&M Music은 아시아 No.1 엔터테인먼트 기업인 CJ E&M의 음악사업 브랜드로 음원/음반의 투자/제작/유통부터 콘서트/페스티벌 개최까지 포함하고 있습니다. CJ E&M MUSIC과 함께 하는 K-POP 아티스트들의 신곡과 뮤직비디오, 미공개 독점 영상 등을 이곳 YOUTUBE 채널에서 가장 먼저 만나보세요.\\n\\nCJ E&M Music is a music business brand of CJ E&M, Asia's No.1 entertainment company. CJ E&M Music covers investment, production and distribution of album and also provides the best music festival and concerts. Meet the K-POP artists' brand new music videos and exclusive video clips on the official YouTube of CJ E&M Music.\n"
     ]
    }
   ],
   "source": [
    "#Example of description containing Korean text\n",
    "print(gb_music['description'][10])"
   ]
  },
  {
   "cell_type": "code",
   "execution_count": 136,
   "metadata": {},
   "outputs": [
    {
     "name": "stdout",
     "output_type": "stream",
     "text": [
      "       ,                  !\\nLovelyz 3rd Mini Album [Fall in Lovelyz]\\n\\n \\n    11  14    3  [Fall in Lovelyz]       .\\n\\n    2    2  [R U Ready?]  5    2    [ ,  ]   \\n         Alwayz             \\n  3       .                  .\\n    3                     \\n                   ,        .\\n ,            (1Take)   (TAK)   \\n                     .\\n\\n\\n\\n  2014  11  12               \\n\\n\\n  1         ,             3       .\\n  3                         \\n                 .\\n\\n     Fall in Lovelyz                 \\n       ,                \\n               .\\n\\n    3            7       .\\n                           \\n             .\\n\\n            Complextro   ELECTRO-POP       \\n (1Take),  (TAK)   ,    .              (1Take),  (TAK) \\n   AIR ,                    .\\n     ,              \\n               .\\n\\n ,                          \\n                     .\\n       Spotlight     ,  ,  FALLIN ,  ,       7   .\\n                     ,        \\n                     .\\n ,  FALLIN    7               Alwayz     \\n                      R&B  .\\n                         \\n         .       3  [Fall in Lovelyz] \\n   ,                    .\\n\\nCJ E&M Music    No.1     CJ E&M       /   / /   /       . CJ E&M MUSIC      K-POP      ,           YOUTUBE        .\\n\\nCJ E&M Music is a music business brand of CJ E&M, Asia's No.1 entertainment company. CJ E&M Music covers investment, production and distribution of album and also provides the best music festival and concerts. Meet the K-POP artists' brand new music videos and exclusive video clips on the official YouTube of CJ E&M Music.\n",
      "<class 'str'>\n"
     ]
    }
   ],
   "source": [
    "import re\n",
    "\n",
    "#example case\n",
    "x = gb_music['description'][10]\n",
    "x = re.sub(\"([^\\x00-\\x7F])+\",\" \",x) #filter out non-latin characters\n",
    "print(x)\n",
    "print(type(x))"
   ]
  },
  {
   "cell_type": "markdown",
   "metadata": {},
   "source": [
    "We have a lot of new line characters which we should also filter out before removing the punctuation"
   ]
  },
  {
   "cell_type": "code",
   "execution_count": 137,
   "metadata": {},
   "outputs": [],
   "source": [
    "#x = re.sub(r'\\b\\w{1,3}\\b', '', x) # remove all characters length 3 or less\n",
    "#print(x)"
   ]
  },
  {
   "cell_type": "code",
   "execution_count": 138,
   "metadata": {},
   "outputs": [],
   "source": [
    "#download list of English stopwords from nltk\n",
    "import string\n",
    "import nltk\n",
    "from nltk.corpus import stopwords"
   ]
  },
  {
   "cell_type": "code",
   "execution_count": 139,
   "metadata": {},
   "outputs": [
    {
     "name": "stdout",
     "output_type": "stream",
     "text": [
      "['nlovelyz', 'mini', 'album', 'fall', 'lovelyz', 'fall', 'lovelyz', 'ready', 'alwayz', '1take', '2014', 'fall', 'lovelyz', 'complextro', 'electro', '1take', '1take', 'spotlight', 'fallin', 'fallin', 'alwayz', 'fall', 'lovelyz', 'music', 'music', 'youtube', 'music', 'music', 'business', 'brand', 'asia', 'entertainment', 'company', 'music', 'covers', 'investment', 'production', 'distribution', 'album', 'also', 'provides', 'best', 'music', 'festival', 'concerts', 'meet', 'artists', 'brand', 'music', 'videos', 'exclusive', 'video', 'clips', 'official', 'youtube', 'music']\n"
     ]
    }
   ],
   "source": [
    "def text_normalise(message):\n",
    "    \n",
    "    '''Input: string\n",
    "    \n",
    "    1) Remove any links.\n",
    "    2) Remove any Asian characters.\n",
    "    3) Remove words length 3 or less, these tend to be special character such as \\n, single numerical digits\n",
    "    and generally unimportant words.\n",
    "    4) Remove punctuation and return a list of strings.\n",
    "    5) Make all words lower-case and remove stopwords from list.\n",
    "    \n",
    "    Returns: list of strings'''\n",
    "    message = re.sub(r\"http\\S+\", \"\", str(message)) #remove any links\n",
    "    message = re.sub(\"([^\\x00-\\x7F])+\",\" \",str(message)) #remove any non-latin characters\n",
    "    message = re.sub(r'\\b\\w{1,3}\\b', '', message) # remove all words length 3 or less\n",
    "    no_punc = ''.join([char for char in message if char not in string.punctuation]) #remove punctuation return list of string\n",
    "    no_stopwords = [word.lower() for word in no_punc.split() if word.lower() not in stopwords.words('english')] #remove stopwords\n",
    "    return no_stopwords\n",
    "\n",
    "\n",
    "normal_x = text_normalise(x)\n",
    "print(normal_x)"
   ]
  },
  {
   "cell_type": "markdown",
   "metadata": {},
   "source": [
    "Test this function on the video descriptions:"
   ]
  },
  {
   "cell_type": "code",
   "execution_count": 134,
   "metadata": {},
   "outputs": [
    {
     "name": "stdout",
     "output_type": "stream",
     "text": [
      "0      [purchase, httpssmarturlmelloyouandmenwatch, w...\n",
      "1      [httphot97hot97app, subscribe, http12ln6vbnhtt...\n",
      "2      [stream, download, face, favourite, local, ret...\n",
      "3      [join, dodie, tour, belfast, headline, show, m...\n",
      "4      [watch, official, music, video, grizzleynstrea...\n",
      "                             ...                        \n",
      "872    [people, watching, video, hope, feel, comfort,...\n",
      "873    [song, move, miami, feat, pitbull, click, show...\n",
      "874    [official, music, video, single, available, ev...\n",
      "875    [2002, annemarie, http2002get, speak, mind, de...\n",
      "876    [debut, album, light, mine, httpkylelightofmin...\n",
      "Name: description, Length: 877, dtype: object\n"
     ]
    }
   ],
   "source": [
    "descriptons = gb_music['description']\n",
    "normalised_desc = descriptons.apply(text_normalise)\n",
    "print(normalised_desc)"
   ]
  },
  {
   "cell_type": "markdown",
   "metadata": {},
   "source": [
    "## Testing out a classifier\n",
    "\n",
    "We have a function which cleans strings (this could perhaps be improved but for now, let's see how it goes) and a column which labels each video as being in the top 20% or not in the top 20%. Let's try using the cleaned descriptions as a predictor variable. Going forward we would probably want the model to consider multiple text attributes and select the k best. I will first try a multinomial Naive Bayes classifier."
   ]
  },
  {
   "cell_type": "code",
   "execution_count": 151,
   "metadata": {},
   "outputs": [],
   "source": [
    "from sklearn.model_selection import StratifiedShuffleSplit\n",
    "from sklearn.pipeline import Pipeline\n",
    "from sklearn.feature_extraction.text import CountVectorizer\n",
    "from sklearn.naive_bayes import MultinomialNB\n",
    "from sklearn.model_selection import cross_val_predict\n"
   ]
  },
  {
   "cell_type": "code",
   "execution_count": 202,
   "metadata": {},
   "outputs": [
    {
     "name": "stdout",
     "output_type": "stream",
     "text": [
      "(877, 2)\n",
      "(869, 2)\n"
     ]
    }
   ],
   "source": [
    "#define data to use in classifier and drop instances with missing description\n",
    "\n",
    "gb_music_data = gb_music[['description','Percentile']]\n",
    "print(gb_music_data.shape)\n",
    "gb_music_data = gb_music_data[gb_music_data['description'].notna()]\n",
    "print(gb_music_data.shape)\n"
   ]
  },
  {
   "cell_type": "code",
   "execution_count": 185,
   "metadata": {},
   "outputs": [],
   "source": [
    "#Create train test split\n",
    "\n",
    "X = gb_music_data['description']\n",
    "y = gb_music_data['Percentile']\n",
    "\n",
    "split = StratifiedShuffleSplit(n_splits=1, test_size=0.2, random_state=42)\n",
    "\n",
    "for train_index, test_index in split.split(X, y):\n",
    "    X_train, X_test = X.iloc[train_index], X.iloc[test_index]\n",
    "    y_train, y_test = y.iloc[train_index], y.iloc[test_index]\n"
   ]
  },
  {
   "cell_type": "code",
   "execution_count": 187,
   "metadata": {},
   "outputs": [
    {
     "name": "stdout",
     "output_type": "stream",
     "text": [
      "242     No\n",
      "687    Yes\n",
      "477     No\n",
      "745     No\n",
      "625     No\n",
      "      ... \n",
      "97      No\n",
      "397     No\n",
      "333     No\n",
      "382     No\n",
      "264     No\n",
      "Name: Percentile, Length: 695, dtype: object\n"
     ]
    },
    {
     "data": {
      "image/png": "[encoded data removed]",
      "text/plain": [
       "<Figure size 432x288 with 1 Axes>"
      ]
     },
     "metadata": {
      "needs_background": "light"
     },
     "output_type": "display_data"
    }
   ],
   "source": [
    "print(y_train)\n",
    "fig = plt.figure()\n",
    "plt.hist(y_train)\n",
    "plt.xlabel('Yes/No Label')\n",
    "plt.ylabel('Count')\n",
    "plt.show()"
   ]
  },
  {
   "cell_type": "markdown",
   "metadata": {},
   "source": [
    "The ratio of Yes to No is similar to that shown above, before we split the data, so we can assume that the sampling has reproduced the imbalance between categories. We can now build a pipeline to clean and vectorise the text, and pass it to a classifier. To begin with we try a simple Bag-of-words model which can be acheived using the CountVectorizer class. It is possible to clean the data by passing our cleaning function 'text_normalise' to the analyzer of the CountVectorizer."
   ]
  },
  {
   "cell_type": "code",
   "execution_count": 188,
   "metadata": {},
   "outputs": [],
   "source": [
    "pipeline = Pipeline([('vect',CountVectorizer(analyzer=text_normalise)),('nbm',MultinomialNB())]) #create pipeline\n",
    "predictions = cross_val_predict(pipeline,X_train,y_train,cv=3) #use cross validated predictions"
   ]
  },
  {
   "cell_type": "code",
   "execution_count": 190,
   "metadata": {},
   "outputs": [
    {
     "name": "stdout",
     "output_type": "stream",
     "text": [
      "[[518  36]\n",
      " [100  41]]\n",
      "Confusion matrix:\n",
      "[[518  36]\n",
      " [100  41]]\n",
      "Precision: 0.5324675324675324\n",
      "Recall: 0.2907801418439716\n",
      "F1-score: 0.3761467889908257\n"
     ]
    }
   ],
   "source": [
    "from sklearn.metrics import confusion_matrix\n",
    "\n",
    "confusion_matrix_cv = confusion_matrix(y_train,predictions)\n",
    "\n",
    "print(confusion_matrix_cv)\n",
    "\n",
    "def precision_score(confusion_mat):\n",
    "    return confusion_matrix_cv[1,1]/(confusion_matrix_cv[1,1]+confusion_matrix_cv[0,1])\n",
    "\n",
    "def recall_score(confusion_matrix_cv):\n",
    "    return confusion_matrix_cv[1,1]/(confusion_matrix_cv[1,1]+confusion_matrix_cv[1,0])\n",
    "\n",
    "def f1_score(confusion_mat):\n",
    "    precision = precision_score(confusion_matrix_cv)\n",
    "    recall = recall_score(confusion_matrix_cv)\n",
    "    return 2*precision*recall/(precision+recall)\n",
    "\n",
    "precision = precision_score(confusion_matrix_cv)\n",
    "recall = recall_score(confusion_matrix_cv)\n",
    "f1 = f1_score(confusion_matrix_cv)\n",
    "\n",
    "print('Confusion matrix:')\n",
    "print(confusion_matrix_cv)\n",
    "print('Precision:', precision)\n",
    "print('Recall:', recall)\n",
    "print('F1-score:', f1)"
   ]
  },
  {
   "cell_type": "code",
   "execution_count": 197,
   "metadata": {},
   "outputs": [
    {
     "data": {
      "image/png": "[encoded data removed]",
      "text/plain": [
       "<Figure size 432x288 with 1 Axes>"
      ]
     },
     "metadata": {
      "needs_background": "light"
     },
     "output_type": "display_data"
    }
   ],
   "source": [
    "import seaborn as sns\n",
    "labels=['No','Yes']\n",
    "annot_kws = {\"ha\": 'left',\"va\": 'top'}\n",
    "ax = sns.heatmap(confusion_matrix_cv,annot=True,xticklabels=labels, yticklabels=labels,cbar=False)\n"
   ]
  },
  {
   "cell_type": "code",
   "execution_count": 199,
   "metadata": {},
   "outputs": [],
   "source": [
    "#Convert the No/Yes strings into integers 0/1.\n",
    "def string_to_int(array):\n",
    "    binary_array = np.zeros(len(array))\n",
    "    ones = np.argwhere(array == 'Yes')\n",
    "    binary_array[ones] = 1\n",
    "    return binary_array.astype(int)\n",
    "\n",
    "#Convert labels into a binary format\n",
    "binary_labels = string_to_int(y_train.values)\n",
    "\n",
    "#Get the probabilities using cross_val_predict\n",
    "train_probabilities = cross_val_predict(pipeline,X_train,y_train,cv=3,method='predict_proba')"
   ]
  },
  {
   "cell_type": "code",
   "execution_count": 200,
   "metadata": {},
   "outputs": [
    {
     "data": {
      "image/png": "[encoded data removed]",
      "text/plain": [
       "<Figure size 720x360 with 2 Axes>"
      ]
     },
     "metadata": {
      "needs_background": "light"
     },
     "output_type": "display_data"
    }
   ],
   "source": [
    "from sklearn.metrics import precision_recall_curve, roc_curve\n",
    "\n",
    "\n",
    "#Calclate precision, recall, fpr and tpr\n",
    "precisions, recalls, thresholds = precision_recall_curve(binary_labels,train_probabilities[:,1],pos_label=None)\n",
    "fpr, tpr, thresholds = roc_curve(binary_labels,train_probabilities[:,1],drop_intermediate=True)\n",
    "\n",
    "fig, ax = plt.subplots(nrows=1, ncols=2, sharey='row',figsize=(10,5))\n",
    "ax[0].plot(recalls,precisions)\n",
    "ax[0].set_ylabel('Precision')\n",
    "ax[0].set_xlabel('Recall')\n",
    "ax[0].set_title('Precision-recall curve')\n",
    "ax[1].plot(fpr,tpr, label='ROC')\n",
    "ax[1].plot(fpr,fpr,'r--', label='Random guess')\n",
    "ax[1].set_ylabel('True positive rate')\n",
    "ax[1].set_xlabel('False positive rate')\n",
    "ax[1].set_title('Receiver operating characteristic')\n",
    "ax[1].legend()\n",
    "plt.tight_layout()\n",
    "plt.show()"
   ]
  },
  {
   "cell_type": "code",
   "execution_count": null,
   "metadata": {},
   "outputs": [],
   "source": []
  }
 ],
 "metadata": {
  "kernelspec": {
   "display_name": "Python 3",
   "language": "python",
   "name": "python3"
  },
  "language_info": {
   "codemirror_mode": {
    "name": "ipython",
    "version": 3
   },
   "file_extension": ".py",
   "mimetype": "text/x-python",
   "name": "python",
   "nbconvert_exporter": "python",
   "pygments_lexer": "ipython3",
   "version": "3.7.4"
  }
 },
 "nbformat": 4,
 "nbformat_minor": 2
}
