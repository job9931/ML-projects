{
 "cells": [
  {
   "cell_type": "markdown",
   "metadata": {},
   "source": [
    "# Text classification with the NLTK toolkit and Scikit-learn"
   ]
  },
  {
   "cell_type": "markdown",
   "metadata": {},
   "source": [
    "***"
   ]
  },
  {
   "cell_type": "markdown",
   "metadata": {},
   "source": [
    "This project uses the NLTK toolkit and Scikit-learn to build a binary spam filter. We will use the well known spam ham text message dataset from the UCI repository to train and evaluate our model. The first section of the project covers the bag of words model and feature vectorisation using Scikit-Learn. Next, a multinomial naive Bayes model is used to classify messages into Ham and Spam categories. We will cover the basic metrics used to evaluate classifiers: the confusion matrix, precision, recall, F1-score, the precision-recall curve and the ROC curve. "
   ]
  },
  {
   "cell_type": "markdown",
   "metadata": {},
   "source": [
    "***"
   ]
  },
  {
   "cell_type": "code",
   "execution_count": 2,
   "metadata": {},
   "outputs": [],
   "source": [
    "import os\n",
    "from zipfile import ZipFile\n",
    "from six.moves import urllib\n",
    "import numpy as np\n",
    "import pandas as pd \n",
    "import matplotlib.pyplot as plt\n",
    "import seaborn as sns \n",
    "import string\n",
    "%matplotlib inline "
   ]
  },
  {
   "cell_type": "code",
   "execution_count": 3,
   "metadata": {},
   "outputs": [],
   "source": [
    "DOWNLOAD_URL = \"https://archive.ics.uci.edu/ml/machine-learning-databases/00228/smsspamcollection.zip\"\n",
    "STORE_PATH = os.path.join(\"data\")\n",
    "FILE_NAME =  \"SMS.zip\"\n",
    "\n",
    "def download_data_from_zip(url=DOWNLOAD_URL, dir_path=STORE_PATH):\n",
    "    \n",
    "    #Check if target directory exists. If not, create it. \n",
    "    if not os.path.isdir(dir_path):\n",
    "        os.makedirs(dir_path)\n",
    "    \n",
    "    #Retive and and unpack the download to dir_path\n",
    "    download_path = os.path.join(dir_path, FILE_NAME)\n",
    "    urllib.request.urlretrieve(url, download_path)\n",
    "    SMS_PATH = os.path.join(STORE_PATH,FILE_NAME)\n",
    "    with ZipFile(SMS_PATH, 'r') as zip_ref:\n",
    "        zip_ref.extractall(dir_path)\n",
    "    \n",
    "download_data_from_zip()\n",
    "\n",
    "DATA_PATH = os.path.join(STORE_PATH,\"SMSSpamCollection.txt\")\n",
    "columns = ['label','text']\n",
    "SMS_data = pd.read_csv(DATA_PATH, names=columns, delimiter='\\t')"
   ]
  },
  {
   "cell_type": "code",
   "execution_count": 4,
   "metadata": {},
   "outputs": [
    {
     "name": "stdout",
     "output_type": "stream",
     "text": [
      "  label                                               text\n",
      "0   ham  Go until jurong point, crazy.. Available only ...\n",
      "1   ham                      Ok lar... Joking wif u oni...\n",
      "2  spam  Free entry in 2 a wkly comp to win FA Cup fina...\n",
      "3   ham  U dun say so early hor... U c already then say...\n",
      "4   ham  Nah I don't think he goes to usf, he lives aro...\n"
     ]
    }
   ],
   "source": [
    "print(SMS_data.head())"
   ]
  },
  {
   "cell_type": "code",
   "execution_count": 5,
   "metadata": {},
   "outputs": [
    {
     "name": "stdout",
     "output_type": "stream",
     "text": [
      "<class 'pandas.core.frame.DataFrame'>\n",
      "RangeIndex: 5572 entries, 0 to 5571\n",
      "Data columns (total 2 columns):\n",
      "label    5572 non-null object\n",
      "text     5572 non-null object\n",
      "dtypes: object(2)\n",
      "memory usage: 87.1+ KB\n",
      "None\n"
     ]
    }
   ],
   "source": [
    "print(SMS_data.info())"
   ]
  },
  {
   "cell_type": "markdown",
   "metadata": {},
   "source": [
    "There are two columns and no missing values. immediately we see that the text file has a lot of shorthand and punctuation. To deal with this we will normalise the text. To normalise, first remove punctuation and then remove words which often appear in both Ham and Spam messages, these are known as **stopwords**; NLTK provides a large list of stopwords. The transformation steps will be as follows:\n",
    "\n",
    " - Split data\n",
    " - Remove punctuation\n",
    " - Remove stopwords\n",
    " - Tokenize\n",
    "\n",
    "Tokenization is the process of assigning a numerical value to each word in the document. Scikit-learn has multiple classes to do this, one is CountVectorizer which can be used to create a **bag-of-words** model. In the bag-of-words model a document (in this case an SMS message) is converted to a list of words and then the frequency of each word in the document is recorded in a vector: in Scikit-learn this is done by the CountVectorizer class. The frequency of words in the document is used as the feature to classify a document as belonging to one class or another. CountVectorizer does this for an entire collection of documents, **the corpus**, and stores the frequencies of every word in a sparse matrix. Each column is a word and each row is a document. The set of all words in the corpus is the **vocabulary**.\n",
    "\n",
    "The first step is to split the data into training and test sets."
   ]
  },
  {
   "cell_type": "code",
   "execution_count": 6,
   "metadata": {},
   "outputs": [],
   "source": [
    "from sklearn.model_selection import train_test_split\n",
    "\n",
    "#Split data \n",
    "X = SMS_data['text']\n",
    "y = SMS_data['label']\n",
    "\n",
    "X_train, X_test, y_train, y_test = train_test_split(X, y, test_size=0.2, random_state=42)"
   ]
  },
  {
   "cell_type": "markdown",
   "metadata": {},
   "source": [
    "It is possible to combine the final three transformation steps by using CountVectorizer's analyzer which is capapble of transforming the data before tokenization. We can pass a custom function to analyzer to perform our desired preprocessing. In our case we will write a function to remove punctuation and stopwords, which are imported from NLTK using the NLTK shell. We want the function to return a list of strings for each message."
   ]
  },
  {
   "cell_type": "code",
   "execution_count": 7,
   "metadata": {},
   "outputs": [
    {
     "name": "stdout",
     "output_type": "stream",
     "text": [
      "NLTK Downloader\n",
      "---------------------------------------------------------------------------\n",
      "    d) Download   l) List    u) Update   c) Config   h) Help   q) Quit\n",
      "---------------------------------------------------------------------------\n",
      "Downloader> q\n"
     ]
    }
   ],
   "source": [
    "import nltk\n",
    "nltk.download_shell()"
   ]
  },
  {
   "cell_type": "code",
   "execution_count": 8,
   "metadata": {},
   "outputs": [
    {
     "name": "stdout",
     "output_type": "stream",
     "text": [
      "1978    [reply, win, £100, weekly, 2006, fifa, world, ...\n",
      "3989    [hello, sort, town, already, dont, rush, home,...\n",
      "3935                [come, guoyang, go, n, tell, u, told]\n",
      "4078    [hey, sathya, till, dint, meet, even, single, ...\n",
      "4086    [orange, brings, ringtones, time, chart, heroe...\n",
      "4919    [sitting, mu, waiting, everyone, get, suite, t...\n",
      "2268                                    [finish, liao, u]\n",
      "4696    [urgent, mobile, 07808726822, awarded, £2000, ...\n",
      "3653                      [probably, still, going, stuff]\n",
      "70                    [wah, lucky, man, save, money, hee]\n",
      "4467                                 [hey, u, still, gym]\n",
      "2418    [oh, lk, tt, den, take, e, one, tt, ends, cine...\n",
      "2623                                            [ok, lor]\n",
      "1272    [still, havent, collected, dough, pls, let, kn...\n",
      "1454                                [stupidits, possible]\n",
      "831     [u, secret, admirer, reveal, thinks, u, r, spe...\n",
      "5082    [amazing, rearrange, letters, gives, meaning, ...\n",
      "1893    [call, 09090900040, listen, extreme, dirty, li...\n",
      "3269       [never, wanted, tell, im, short, onedge, late]\n",
      "238                                 [youwhen, wil, reach]\n",
      "5426                       [oh, yeah, diet, flew, window]\n",
      "4867    [oh, shit, thought, trip, loooooool, makes, mu...\n",
      "3435    [sending, greetings, joy, happiness, gr8, even...\n",
      "5542                    [armand, says, get, ass, epsilon]\n",
      "1295     [aiyah, u, ok, already, lar, e, nydc, wheellock]\n",
      "2998                   [knowhe, watching, film, computer]\n",
      "1001                             [nobut, heard, abt, tat]\n",
      "1512    [oops, sorry, check, dont, mind, picking, tomo...\n",
      "4370                                       [anytime, lor]\n",
      "3458    [friendship, poem, dear, dear, u, r, near, hea...\n",
      "                              ...                        \n",
      "2747                         [k, dahow, many, page, want]\n",
      "2047                       [aight, fuck, ill, get, later]\n",
      "2558              [message, brought, gmw, ltd, connected]\n",
      "1082                           [u, get, pic, msgs, phone]\n",
      "474     [want, 2, get, laid, tonight, want, real, dogg...\n",
      "2904                                 [tell, pa, pain, de]\n",
      "4843               [awesome, gonna, soon, later, tonight]\n",
      "4117                                           [doinghow]\n",
      "3385    [free, msgwe, billed, mobile, number, mistake,...\n",
      "4555       [try, something, dear, read, something, exams]\n",
      "1184                             [much, bad, avoid, like]\n",
      "5051                      [vote, wherever, heart, guides]\n",
      "5311    [kkim, going, tirunelvali, week, see, uncle, a...\n",
      "2433     [really, dun, bluff, leh, u, sleep, early, nite]\n",
      "2391    [first, gained, ltgt, kg, since, took, second,...\n",
      "769        [cant, pick, phone, right, pls, send, message]\n",
      "1685                           [want, bold, 2, bb, torch]\n",
      "130                                   [kkhow, much, cost]\n",
      "2919                           [thanks, chikku, gud, nyt]\n",
      "3171                        [mah, b, ill, pick, tomorrow]\n",
      "3444    [board, working, fine, issue, overheating, als...\n",
      "4426                              [saw, messageit, k, da]\n",
      "5334    [garbage, bags, eggs, jam, bread, hannaford, w...\n",
      "466     [great, princess, love, giving, receiving, ora...\n",
      "3092    [lord, ringsreturn, king, store, nowreply, lot...\n",
      "3772    [hi, wlcome, back, wonder, got, eaten, lion, s...\n",
      "5191                            [sorry, ill, call, later]\n",
      "5226          [prabhaim, sorydarealyfrm, heart, im, sory]\n",
      "5390                        [nt, joking, seriously, told]\n",
      "860                         [say, somebody, named, tampa]\n",
      "Name: text, Length: 4457, dtype: object\n"
     ]
    }
   ],
   "source": [
    "from nltk.corpus import stopwords\n",
    "\n",
    "def simple_text_normalise(message):\n",
    "    no_punc = ''.join([char for char in message if char not in string.punctuation])\n",
    "    no_stopwords = [word.lower() for word in no_punc.split() if word.lower() not in stopwords.words('english')]\n",
    "    return no_stopwords\n",
    "\n",
    "#Test the function out \n",
    "normalised_df = X_train.apply(simple_text_normalise)\n",
    "print(normalised_df)\n"
   ]
  },
  {
   "cell_type": "markdown",
   "metadata": {},
   "source": [
    "Next we build a pipeline to vectorize the text and fit a multinomial naive Bayes classifier, then evaluate using cross-validation. The Bayes classifier calculates the probability that an instance belongs to the Spam class using Bayes theorem and compares this to a threshold value; if the probablity is above the threshold value the instance is classified as Spam. "
   ]
  },
  {
   "cell_type": "code",
   "execution_count": 33,
   "metadata": {},
   "outputs": [],
   "source": [
    "from sklearn.pipeline import Pipeline\n",
    "from sklearn.feature_extraction.text import CountVectorizer\n",
    "from sklearn.naive_bayes import MultinomialNB\n",
    "from sklearn.model_selection import cross_val_predict\n",
    "\n",
    "\n",
    "pipeline = Pipeline([('vect',CountVectorizer(analyzer=simple_text_normalise)),('nbm',MultinomialNB())])\n",
    "predictions = cross_val_predict(pipeline,X_train,y_train,cv=3)"
   ]
  },
  {
   "cell_type": "markdown",
   "metadata": {},
   "source": [
    "The confusion matrix organises the True Negatives (Ham clasified as Ham), False Negatives (Spam clasified as Ham), False Positives (Ham classified as Spam) and True Positives (Spam classified as Spam) into a grid. From the confusion matrix we can caluclate further evaluation metrics: **precision**, **recall**, **F1-score**, **false positive rate** and **true positive rate**. \n",
    "\n",
    " - Precision: this is the number of true positives divided by the number of all true predictions; TP/(TP+FP). This describes how often the classifier is correct when it predicts positive. High precision limits the number of false positives (limits the number of legitimate messages being clasified as spam). A precision of 1 (FP=0) means the classifier never incorrectly classifies Ham as Spam. \n",
    " \n",
    " - Recall: this is the number of true positives divded by the number of true instances; TP/(TP+FN). This describes how often the classifier is correct when the instance truely is positive. High Recall limits the number of False negatives (limites the number of spam messages being classified as legitimate). Recall of 1 (FN=0) means the classifier never incorrecly classifies Spam as Ham. \n",
    " \n",
    " - The F1-score: the harmonic mean of precision and recall.\n",
    " \n",
    " - False positive rate (FPR): how often does the classifier incorrecly classify a message as Spam when it is legitimate; FP/(FP+TN).\n",
    " \n",
    " - True positive rate (TPR): how often is the classifier correct when it classifies a message as Spam (positive); TP/(TP+FN)."
   ]
  },
  {
   "cell_type": "code",
   "execution_count": 11,
   "metadata": {},
   "outputs": [
    {
     "name": "stdout",
     "output_type": "stream",
     "text": [
      "Confusion matrix:\n",
      "[[3835   24]\n",
      " [  59  539]]\n",
      "Precision: 0.9573712255772646\n",
      "Recall: 0.9013377926421404\n",
      "F1-score: 0.9285099052540913\n"
     ]
    }
   ],
   "source": [
    "from sklearn.metrics import confusion_matrix\n",
    "\n",
    "confusion_matrix_cv = confusion_matrix(y_train,predictions)\n",
    "\n",
    "def precision_score(confusion_mat):\n",
    "    return confusion_matrix_cv[1,1]/(confusion_matrix_cv[1,1]+confusion_matrix_cv[0,1])\n",
    "\n",
    "def recall_score(confusion_matrix_cv):\n",
    "    return confusion_matrix_cv[1,1]/(confusion_matrix_cv[1,1]+confusion_matrix_cv[1,0])\n",
    "\n",
    "def f1_score(confusion_mat):\n",
    "    precision = precision_score(confusion_matrix_cv)\n",
    "    recall = recall_score(confusion_matrix_cv)\n",
    "    return 2*precision*recall/(precision+recall)\n",
    "\n",
    "precision = precision_score(confusion_matrix_cv)\n",
    "recall = recall_score(confusion_matrix_cv)\n",
    "f1 = f1_score(confusion_matrix_cv)\n",
    "\n",
    "print('Confusion matrix:')\n",
    "print(confusion_matrix_cv)\n",
    "print('Precision:', precision)\n",
    "print('Recall:', recall)\n",
    "print('F1-score:', f1)"
   ]
  },
  {
   "cell_type": "markdown",
   "metadata": {},
   "source": [
    "The confusion matrix can be visualised as a heatmap. "
   ]
  },
  {
   "cell_type": "code",
   "execution_count": 12,
   "metadata": {},
   "outputs": [
    {
     "data": {
      "image/png": "[encoded data removed]",
      "text/plain": [
       "<matplotlib.figure.Figure at 0x11e9aae10>"
      ]
     },
     "metadata": {
      "needs_background": "light"
     },
     "output_type": "display_data"
    }
   ],
   "source": [
    "labels = ['Ham','Spam']\n",
    "ax = sns.heatmap(confusion_matrix_cv,annot=True,xticklabels=labels, yticklabels=labels,cbar=False)"
   ]
  },
  {
   "cell_type": "markdown",
   "metadata": {},
   "source": [
    "The above metrics are dependent upon the threshold value. A threshold of 0 means all messages are classified as Spam and a threshold of 1 means all messages are classified as Ham. We can calculate the above metrics at different threshold values and plot them against each other in order to visualse the relationship between precision and recall and the FPR and the TPR. These plots are called the precision-recall curve and the receiver operating characteristic. In order to obtrain these curves we need to get the probability that each instance belongs to the Spam class from our classifier. "
   ]
  },
  {
   "cell_type": "code",
   "execution_count": 21,
   "metadata": {},
   "outputs": [
    {
     "name": "stdout",
     "output_type": "stream",
     "text": [
      "MultinomialNB(alpha=1.0, class_prior=None, fit_prior=True)\n"
     ]
    }
   ],
   "source": [
    "#Convert the ham/spam strings into integers 0/1.\n",
    "def string_to_int(array):\n",
    "    binary_array = np.zeros(len(array))\n",
    "    ones = np.argwhere(array == 'spam')\n",
    "    binary_array[ones] = 1\n",
    "    return binary_array.astype(int)\n",
    "\n",
    "#Convert labels into a binary format\n",
    "binary_labels = string_to_int(y_train.values)\n",
    "\n",
    "#Get the probabilities using cross_val_predict\n",
    "train_probabilities = cross_val_predict(pipeline,X_train,y_train,cv=3,method='predict_proba')"
   ]
  },
  {
   "cell_type": "code",
   "execution_count": 27,
   "metadata": {},
   "outputs": [
    {
     "data": {
      "image/png": "[encoded data removed]",
      "text/plain": [
       "<matplotlib.figure.Figure at 0x11f24aba8>"
      ]
     },
     "metadata": {
      "needs_background": "light"
     },
     "output_type": "display_data"
    }
   ],
   "source": [
    "from sklearn.metrics import precision_recall_curve, roc_curve\n",
    "\n",
    "\n",
    "#Calclate precision, recall, fpr and tpr\n",
    "precisions, recalls, thresholds = precision_recall_curve(binary_labels,train_probabilities[:,1],pos_label=None)\n",
    "fpr, tpr, thresholds = roc_curve(binary_labels,train_probabilities[:,1],drop_intermediate=True)\n",
    "\n",
    "fig, ax = plt.subplots(nrows=1, ncols=2, sharey='row',figsize=(10,5))\n",
    "ax[0].plot(recalls,precisions)\n",
    "ax[0].set_ylabel('Precision')\n",
    "ax[0].set_xlabel('Recall')\n",
    "ax[0].set_title('Precision-recall curve')\n",
    "ax[1].plot(fpr,tpr, label='ROC')\n",
    "ax[1].plot(fpr,fpr,'r--', label='Random guess')\n",
    "ax[1].set_ylabel('True positive rate')\n",
    "ax[1].set_xlabel('False positive rate')\n",
    "ax[1].set_title('Receiver operating characteristic')\n",
    "ax[1].legend()\n",
    "plt.tight_layout()\n",
    "plt.show()"
   ]
  },
  {
   "cell_type": "markdown",
   "metadata": {},
   "source": [
    "As the threshold value is changed from 0 to 1 the values of precision, recall, TPR and FPR change. When threshold value is 0, everything is classified as Spam so the number of false negative classifcations is 0 and the true postive rate is 1. When the threshold is 1 everything is classified as Ham and the so the number of false positives and true positives are 0. The optimimum threshold occurs at the turning point of the graphs. However, if you care more about precision than recall, for example, you may want to choose a threshold corresponding to a point away from the turning point. \n",
    "\n",
    "The red dotted line on the ROC curve is the characteristic of a classifier that makes random guesses. The area under the red line is 0.5, so an area under the ROC curve larger than 0.5 means the classifier is better than simply making a random guess between Spam and Ham and a score of 1 corresponds to a perfect classifier. Scikit-learn provides a built-in function to calculate the area under curves using the trapezium-rule. "
   ]
  },
  {
   "cell_type": "code",
   "execution_count": 92,
   "metadata": {},
   "outputs": [
    {
     "name": "stdout",
     "output_type": "stream",
     "text": [
      "Area under PR curve: 0.9359733109943783\n",
      "Area under ROC curve: 0.9475592824314614\n"
     ]
    }
   ],
   "source": [
    "from sklearn.metrics import auc\n",
    "\n",
    "AUC_PRC = auc(recalls,precisions)\n",
    "AUC_ROC = auc(fpr,tpr)\n",
    "print('Area under PR curve:', AUC_PRC)\n",
    "print('Area under ROC curve:', AUC_ROC)"
   ]
  },
  {
   "cell_type": "markdown",
   "metadata": {},
   "source": [
    "Evaluate classifier on the test set. "
   ]
  },
  {
   "cell_type": "code",
   "execution_count": 29,
   "metadata": {},
   "outputs": [],
   "source": [
    "test_predictions = cross_val_predict(pipeline,X_test,y_test,cv=3)"
   ]
  },
  {
   "cell_type": "code",
   "execution_count": 31,
   "metadata": {},
   "outputs": [
    {
     "name": "stdout",
     "output_type": "stream",
     "text": [
      "Confusion matrix:\n",
      "[[961   5]\n",
      " [ 17 132]]\n",
      "Precision: 0.9573712255772646\n",
      "Recall: 0.8859060402684564\n",
      "F1-score: 0.9285099052540913\n"
     ]
    }
   ],
   "source": [
    "test_confusion_matrix = confusion_matrix(y_test,test_predictions)\n",
    "test_precision = precision_score(test_confusion_matrix)\n",
    "test_recall = recall_score(test_confusion_matrix)\n",
    "test_f1 = f1_score(test_confusion_matrix)\n",
    "\n",
    "print('Confusion matrix:')\n",
    "print(test_confusion_matrix)\n",
    "print('Precision:',test_precision)\n",
    "print('Recall:', test_recall)\n",
    "print('F1-score:', test_f1)\n",
    "\n"
   ]
  },
  {
   "cell_type": "markdown",
   "metadata": {},
   "source": [
    "The performance of the classifier on the test set is only slightly worse than on the training set. The precision is very similar and the recall is slightly lower."
   ]
  },
  {
   "cell_type": "markdown",
   "metadata": {},
   "source": [
    "## Summary and insights"
   ]
  },
  {
   "cell_type": "markdown",
   "metadata": {},
   "source": [
    "In this notebook we have covered:\n",
    "\n",
    "- The bag of words model.\n",
    "- Normalising text documents by removing punctuation and stopwords. \n",
    "- Using CountVectoriser to represent a document as a vector of word frequencies, and represent a corpus as a sparse martix of word frequencies. \n",
    "- How to build a pipeline to perform tokenization and to fit a multinomial naive Bayes classifier model to training data. \n",
    "- How to evaluate a binary classifier using metrics such as precision, recall and the F1-score. \n",
    "- How to use Scikit-learn to get classification probabilities from a cross-validated classifier model and use those probabilities to plot the precision-recall curve and the ROC curve. "
   ]
  },
  {
   "cell_type": "code",
   "execution_count": null,
   "metadata": {},
   "outputs": [],
   "source": []
  }
 ],
 "metadata": {
  "kernelspec": {
   "display_name": "Python 3",
   "language": "python",
   "name": "python3"
  },
  "language_info": {
   "codemirror_mode": {
    "name": "ipython",
    "version": 3
   },
   "file_extension": ".py",
   "mimetype": "text/x-python",
   "name": "python",
   "nbconvert_exporter": "python",
   "pygments_lexer": "ipython3",
   "version": "3.6.4"
  }
 },
 "nbformat": 4,
 "nbformat_minor": 2
}
